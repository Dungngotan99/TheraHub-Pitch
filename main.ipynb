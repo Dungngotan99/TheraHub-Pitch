{
 "cells": [
  {
   "cell_type": "code",
   "execution_count": 1,
   "metadata": {},
   "outputs": [],
   "source": [
    "import dash\n",
    "import dash_core_components as dcc\n",
    "import dash_html_components as html\n",
    "import plotly.graph_objects as go\n",
    "import pandas as pd\n",
    "import numpy as np\n",
    "from dash.dependencies import Input, Output"
   ]
  },
  {
   "cell_type": "code",
   "execution_count": 2,
   "metadata": {},
   "outputs": [
    {
     "data": {
      "text/html": [
       "<div>\n",
       "<style scoped>\n",
       "    .dataframe tbody tr th:only-of-type {\n",
       "        vertical-align: middle;\n",
       "    }\n",
       "\n",
       "    .dataframe tbody tr th {\n",
       "        vertical-align: top;\n",
       "    }\n",
       "\n",
       "    .dataframe thead th {\n",
       "        text-align: right;\n",
       "    }\n",
       "</style>\n",
       "<table border=\"1\" class=\"dataframe\">\n",
       "  <thead>\n",
       "    <tr style=\"text-align: right;\">\n",
       "      <th></th>\n",
       "      <th></th>\n",
       "      <th>time</th>\n",
       "      <th>score</th>\n",
       "      <th>game</th>\n",
       "      <th>symptom</th>\n",
       "    </tr>\n",
       "  </thead>\n",
       "  <tbody>\n",
       "    <tr>\n",
       "      <th rowspan=\"5\" valign=\"top\">Patient 1</th>\n",
       "      <th>Try 1</th>\n",
       "      <td>0.58</td>\n",
       "      <td>9</td>\n",
       "      <td>2</td>\n",
       "      <td>3</td>\n",
       "    </tr>\n",
       "    <tr>\n",
       "      <th>Try 2</th>\n",
       "      <td>0.81</td>\n",
       "      <td>7</td>\n",
       "      <td>4</td>\n",
       "      <td>3</td>\n",
       "    </tr>\n",
       "    <tr>\n",
       "      <th>Try 3</th>\n",
       "      <td>0.52</td>\n",
       "      <td>1</td>\n",
       "      <td>0</td>\n",
       "      <td>0</td>\n",
       "    </tr>\n",
       "    <tr>\n",
       "      <th>Try 4</th>\n",
       "      <td>0.81</td>\n",
       "      <td>9</td>\n",
       "      <td>1</td>\n",
       "      <td>4</td>\n",
       "    </tr>\n",
       "    <tr>\n",
       "      <th>Try 5</th>\n",
       "      <td>0.63</td>\n",
       "      <td>7</td>\n",
       "      <td>0</td>\n",
       "      <td>3</td>\n",
       "    </tr>\n",
       "  </tbody>\n",
       "</table>\n",
       "</div>"
      ],
      "text/plain": [
       "                 time  score  game  symptom\n",
       "Patient 1 Try 1  0.58      9     2        3\n",
       "          Try 2  0.81      7     4        3\n",
       "          Try 3  0.52      1     0        0\n",
       "          Try 4  0.81      9     1        4\n",
       "          Try 5  0.63      7     0        3"
      ]
     },
     "execution_count": 2,
     "metadata": {},
     "output_type": "execute_result"
    }
   ],
   "source": [
    "time = np.random.randint(0,100,100)/100\n",
    "score = np.random.randint(0,10,100)\n",
    "game = np.random.randint(0,5,100)\n",
    "symptom = np.random.randint(0,5,100)\n",
    "\n",
    "index = []\n",
    "patients = [\"Patient {}\".format(i) for i in range(1,11)]\n",
    "for pt in patients:\n",
    "    for i in range(1,11):\n",
    "        index.append((pt, \"Try {}\".format(i)))\n",
    "index = pd.MultiIndex.from_tuples(index)\n",
    "\n",
    "sample_df = pd.DataFrame(data={'time':time, 'score':score, 'game':game, 'symptom':symptom}, index=index)\n",
    "sample_df.head()"
   ]
  },
  {
   "cell_type": "code",
   "execution_count": null,
   "metadata": {},
   "outputs": [
    {
     "name": "stdout",
     "output_type": "stream",
     "text": [
      " * Serving Flask app \"__main__\" (lazy loading)\n",
      " * Environment: production\n",
      "   WARNING: This is a development server. Do not use it in a production deployment.\n",
      "   Use a production WSGI server instead.\n",
      " * Debug mode: off\n"
     ]
    },
    {
     "name": "stderr",
     "output_type": "stream",
     "text": [
      " * Running on http://127.0.0.1:8050/ (Press CTRL+C to quit)\n",
      "127.0.0.1 - - [13/Jun/2020 09:45:50] \"\u001b[37mGET / HTTP/1.1\u001b[0m\" 200 -\n",
      "127.0.0.1 - - [13/Jun/2020 09:45:50] \"\u001b[37mGET /_dash-component-suites/dash_renderer/react@16.8.6.min.js?v=1.1.2&m=1576595738 HTTP/1.1\u001b[0m\" 200 -\n",
      "127.0.0.1 - - [13/Jun/2020 09:45:50] \"\u001b[37mGET /_dash-component-suites/dash_renderer/prop-types@15.7.2.min.js?v=1.1.2&m=1576595738 HTTP/1.1\u001b[0m\" 200 -\n",
      "127.0.0.1 - - [13/Jun/2020 09:45:50] \"\u001b[37mGET /_dash-component-suites/dash_core_components/highlight.pack.js?v=1.3.1&m=1576595950 HTTP/1.1\u001b[0m\" 200 -\n",
      "127.0.0.1 - - [13/Jun/2020 09:45:50] \"\u001b[37mGET /_dash-component-suites/dash_renderer/react-dom@16.8.6.min.js?v=1.1.2&m=1576595738 HTTP/1.1\u001b[0m\" 200 -\n",
      "127.0.0.1 - - [13/Jun/2020 09:45:50] \"\u001b[37mGET /_dash-component-suites/dash_html_components/dash_html_components.min.js?v=1.0.1&m=1576596177 HTTP/1.1\u001b[0m\" 200 -\n",
      "127.0.0.1 - - [13/Jun/2020 09:45:50] \"\u001b[37mGET /_dash-component-suites/dash_renderer/dash_renderer.min.js?v=1.1.2&m=1576595738 HTTP/1.1\u001b[0m\" 200 -\n",
      "127.0.0.1 - - [13/Jun/2020 09:45:50] \"\u001b[37mGET /_dash-component-suites/dash_core_components/dash_core_components.min.js?v=1.3.1&m=1576595950 HTTP/1.1\u001b[0m\" 200 -\n",
      "127.0.0.1 - - [13/Jun/2020 09:45:50] \"\u001b[37mGET /_dash-component-suites/dash_core_components/plotly-1.50.1.min.js?v=1.3.1&m=1576595950 HTTP/1.1\u001b[0m\" 200 -\n",
      "127.0.0.1 - - [13/Jun/2020 09:45:50] \"\u001b[37mGET /_dash-dependencies HTTP/1.1\u001b[0m\" 200 -\n",
      "127.0.0.1 - - [13/Jun/2020 09:45:50] \"\u001b[37mGET /_dash-layout HTTP/1.1\u001b[0m\" 200 -\n",
      "127.0.0.1 - - [13/Jun/2020 09:45:50] \"\u001b[37mPOST /_dash-update-component HTTP/1.1\u001b[0m\" 200 -\n",
      "127.0.0.1 - - [13/Jun/2020 09:45:59] \"\u001b[37mPOST /_dash-update-component HTTP/1.1\u001b[0m\" 200 -\n",
      "127.0.0.1 - - [13/Jun/2020 09:46:03] \"\u001b[37mPOST /_dash-update-component HTTP/1.1\u001b[0m\" 200 -\n"
     ]
    }
   ],
   "source": [
    "app = dash.Dash(__name__)\n",
    "\n",
    "app.layout = html.Div([\n",
    "    html.H1(\"Patient's Performance on VR games\", id='h1-counter', style={'width':'20%','display':'inline-block'}),\n",
    "    html.Button(\"Main menu\",id='button-id'),\n",
    "    html.Div([\n",
    "        dcc.Dropdown(id='dropdown',options=[{'label': i, 'value': i} for i in patients], value='Patient 1'),\n",
    "        dcc.Graph(id='graphid', figure=go.Figure()),\n",
    "        dcc.Interval(id='1s-interval',interval=1000,n_intervals=0)\n",
    "    ])\n",
    "])\n",
    "\n",
    "@app.callback(Output('graphid','figure'),[Input('dropdown','value')])\n",
    "\n",
    "def update_layout(manager):\n",
    "    df = sample_df.loc[manager,:]\n",
    "    data = []\n",
    "    for i in ['time','score','game','symptom']:\n",
    "        data.append(go.Box(y=df[i].values, name=i))\n",
    "        \n",
    "    layout = go.Layout(title='{}\\'s performance'.format(manager),\n",
    "                       xaxis={'title':'Variables'},yaxis={'title':'Score'})\n",
    "    \n",
    "    return go.Figure(data=data, layout=layout)\n",
    "\n",
    "if __name__ == \"__main__\":\n",
    "    app.run_server();"
   ]
  },
  {
   "cell_type": "code",
   "execution_count": null,
   "metadata": {},
   "outputs": [],
   "source": []
  }
 ],
 "metadata": {
  "kernelspec": {
   "display_name": "Python 3",
   "language": "python",
   "name": "python3"
  },
  "language_info": {
   "codemirror_mode": {
    "name": "ipython",
    "version": 3
   },
   "file_extension": ".py",
   "mimetype": "text/x-python",
   "name": "python",
   "nbconvert_exporter": "python",
   "pygments_lexer": "ipython3",
   "version": "3.7.0"
  }
 },
 "nbformat": 4,
 "nbformat_minor": 2
}
